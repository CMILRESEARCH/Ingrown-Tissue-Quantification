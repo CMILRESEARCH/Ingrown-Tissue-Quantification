{
 "cells": [
  {
   "cell_type": "markdown",
   "id": "c644b692-739d-4a1d-86d6-a3242a812523",
   "metadata": {
    "tags": []
   },
   "source": [
    "<!-- <img src=\"UNET-architecture.jpg\" alt=\"Title\" style=\"width: 500px;\"/> -->\n",
    "<div style=\"text-align: center;\">\n",
    "    <img src=\"model.png\" alt=\"Title\" style=\"width: 500px;\"/>\n",
    "</div>"
   ]
  },
  {
   "cell_type": "markdown",
   "id": "9eea0f46-fbe5-4c96-9da2-5134b2ff1393",
   "metadata": {},
   "source": [
    "#### Import"
   ]
  },
  {
   "cell_type": "code",
   "execution_count": 12,
   "id": "f6dbaaac-05b4-497d-b2e7-0362d5cca5e1",
   "metadata": {
    "tags": []
   },
   "outputs": [],
   "source": [
    "import os\n",
    "import time\n",
    "import numpy as np\n",
    "import cv2            \n",
    "from glob import glob \n",
    "import tensorflow as tf\n",
    "from tqdm import tqdm\n",
    "from tensorflow.keras.layers import Conv2D, BatchNormalization, Activation, MaxPool2D, Conv2DTranspose, Concatenate, Input, ZeroPadding2D\n",
    "from tensorflow.keras.models import Model\n",
    "from tensorflow.keras.callbacks import EarlyStopping, ModelCheckpoint, ReduceLROnPlateau, CSVLogger\n",
    "from tensorflow.keras.preprocessing.image import load_img, img_to_array\n",
    "from PIL import Image\n",
    "import matplotlib.pyplot as plt\n",
    "from sklearn.metrics import accuracy_score, f1_score, jaccard_score, precision_score, recall_score"
   ]
  },
  {
   "cell_type": "markdown",
   "id": "3225ebbd-25ba-4fe3-8342-076ca81d1f7d",
   "metadata": {
    "tags": []
   },
   "source": [
    "#### Seeding (helps in reproducibility)"
   ]
  },
  {
   "cell_type": "code",
   "execution_count": 24,
   "id": "ad2ddb0c-4dd7-4e43-bdec-403f89b422c2",
   "metadata": {
    "tags": []
   },
   "outputs": [],
   "source": [
    "os.environ[\"PYTHONHASHSEED\"] = str(42)\n",
    "np.random.seed(42)\n",
    "tf.random.set_seed(42)"
   ]
  },
  {
   "cell_type": "markdown",
   "id": "26f39c8d-901f-491a-b6de-567265de75a6",
   "metadata": {},
   "source": [
    "#### Hyperparameters"
   ]
  },
  {
   "cell_type": "code",
   "execution_count": 13,
   "id": "dd743e0d-b505-4e0a-bacb-d12901033fb4",
   "metadata": {
    "tags": []
   },
   "outputs": [],
   "source": [
    "batch_size = 4\n",
    "lr = 1e-4\n",
    "epochs = 25\n",
    "height = 1100\n",
    "width = 1344"
   ]
  },
  {
   "cell_type": "markdown",
   "id": "5630ccdd-2013-4b68-990c-ab58b1ad3a2c",
   "metadata": {},
   "source": [
    "#### Path for datasets"
   ]
  },
  {
   "cell_type": "code",
   "execution_count": 44,
   "id": "f792ce23-7271-401c-82ee-9f093b07e325",
   "metadata": {
    "tags": []
   },
   "outputs": [],
   "source": [
    "dataset_path = './dataset'"
   ]
  },
  {
   "cell_type": "markdown",
   "id": "36141e34",
   "metadata": {},
   "source": [
    "#### Path for saving model and training logs"
   ]
  },
  {
   "cell_type": "code",
   "execution_count": 45,
   "id": "067ba6e3-14ec-439c-b4ad-755c3088e283",
   "metadata": {
    "tags": []
   },
   "outputs": [],
   "source": [
    "files_dir = os.path.join(os.getcwd(), \"files\")\n",
    "model_file = os.path.join(files_dir, \"unet.h5\")\n",
    "log_file = os.path.join(files_dir, \"log.csv\")"
   ]
  },
  {
   "cell_type": "markdown",
   "id": "2d44b85b-9d39-483e-be8f-18ab253f2015",
   "metadata": {},
   "source": [
    "#### Creating Files directory to save model and training logs"
   ]
  },
  {
   "cell_type": "code",
   "execution_count": 14,
   "id": "59f0b9c6-e5af-41eb-93ca-a6ec9b65d420",
   "metadata": {
    "tags": []
   },
   "outputs": [],
   "source": [
    "def create_dir(path):\n",
    "    if not os.path.exists(path):\n",
    "        os.makedirs(path)"
   ]
  },
  {
   "cell_type": "code",
   "execution_count": 29,
   "id": "b36f8af7-7940-4893-a970-3de2a847926e",
   "metadata": {
    "tags": []
   },
   "outputs": [],
   "source": [
    "create_dir(files_dir)"
   ]
  },
  {
   "cell_type": "markdown",
   "id": "772b3ad2-7e84-49e0-85d7-bd0f2270e7cf",
   "metadata": {},
   "source": [
    "#### Building UNET"
   ]
  },
  {
   "cell_type": "markdown",
   "id": "26424db8-2a52-4680-b9a8-e9e382ea1e7a",
   "metadata": {},
   "source": [
    "##### Conv Block"
   ]
  },
  {
   "cell_type": "code",
   "execution_count": 30,
   "id": "6cc54a7e-e2aa-4df9-b618-224c2c7d0efb",
   "metadata": {
    "tags": []
   },
   "outputs": [],
   "source": [
    "def conv_block(inputs, num_filters):\n",
    "    x = Conv2D(num_filters, 3, padding=\"same\")(inputs)\n",
    "    x = BatchNormalization()(x)\n",
    "    x = Activation(\"relu\")(x)\n",
    "    \n",
    "    x = Conv2D(num_filters, 3, padding=\"same\")(x)\n",
    "    x = BatchNormalization()(x)\n",
    "    x = Activation (\"relu\")(x)\n",
    "    \n",
    "    return x"
   ]
  },
  {
   "cell_type": "markdown",
   "id": "b2b60c45-8eb3-4104-a382-6a79bf1070b5",
   "metadata": {},
   "source": [
    "##### Encoder Block"
   ]
  },
  {
   "cell_type": "code",
   "execution_count": 31,
   "id": "2c7ba88b-d666-4a5b-bbeb-419d171e56ac",
   "metadata": {
    "tags": []
   },
   "outputs": [],
   "source": [
    "def encoder_block(inputs, num_filters):\n",
    "    x = conv_block(inputs, num_filters)\n",
    "    p = MaxPool2D((2,2))(x)\n",
    "    return x, p"
   ]
  },
  {
   "cell_type": "markdown",
   "id": "cae43ae4-cfbe-4b39-b3a1-e5c83671b0d9",
   "metadata": {},
   "source": [
    "##### Decoder Block"
   ]
  },
  {
   "cell_type": "code",
   "execution_count": 32,
   "id": "fac974e6-6c66-4974-8db4-1cccf7283706",
   "metadata": {
    "tags": []
   },
   "outputs": [],
   "source": [
    "def decoder_block(inputs, skip, num_filters):\n",
    "    x = Conv2DTranspose(num_filters, (2,2), strides = 2, padding = \"same\")(inputs)\n",
    "        \n",
    "    # Compute the difference in shape\n",
    "    h_diff = skip.shape[1] - x.shape[1]\n",
    "    w_diff = skip.shape[2] - x.shape[2]\n",
    "\n",
    "    # Pad the smaller tensor to match the larger one\n",
    "    if h_diff > 0:\n",
    "        x = ZeroPadding2D(padding=((0, h_diff), (0, 0)))(x)\n",
    "    elif h_diff < 0:\n",
    "        skip = ZeroPadding2D(padding=((0, -h_diff), (0, 0)))(skip)\n",
    "\n",
    "    if w_diff > 0:\n",
    "        x = ZeroPadding2D(padding=((0, 0), (0, w_diff)))(x)\n",
    "    elif w_diff < 0:\n",
    "        skip = ZeroPadding2D(padding=((0, 0), (0, -w_diff)))(skip)\n",
    "\n",
    "    x = Concatenate()([x, skip])\n",
    "    x = conv_block(x, num_filters)\n",
    "    return x"
   ]
  },
  {
   "cell_type": "markdown",
   "id": "eab3781e-8818-46e7-8c19-2d1e1a8e6f0a",
   "metadata": {},
   "source": [
    "##### UNET"
   ]
  },
  {
   "cell_type": "code",
   "execution_count": 33,
   "id": "31dc4ce0-37b3-42e3-afcc-bebde39c4f56",
   "metadata": {
    "tags": []
   },
   "outputs": [],
   "source": [
    "def build_unet(input_shape):\n",
    "    inputs = Input(input_shape)\n",
    "    \n",
    "    ''' Encoder '''\n",
    "    s1, p1 = encoder_block(inputs, 64)\n",
    "    s2, p2 = encoder_block(p1, 128)\n",
    "    s3, p3 = encoder_block(p2, 256)\n",
    "    s4, p4 = encoder_block(p3, 512)\n",
    "    \n",
    "    ''' Bottleneck '''\n",
    "    b1 = conv_block(p4, 1024)\n",
    "    \n",
    "    ''' Decoder '''\n",
    "    d1 = decoder_block(b1, s4, 512)\n",
    "    d2 = decoder_block(d1, s3, 256)\n",
    "    d3 = decoder_block(d2, s2, 128)\n",
    "    d4 = decoder_block(d3, s1, 64)\n",
    "    \n",
    "    ''' Output '''\n",
    "    outputs = Conv2D(1, 1, padding = \"same\", activation = \"sigmoid\")(d4)\n",
    "\n",
    "    model = Model(inputs, outputs, name = \"UNET\")\n",
    "    return model\n"
   ]
  },
  {
   "cell_type": "markdown",
   "id": "9a6e56a8-ad5d-4683-ba0b-29dcac0bfdd9",
   "metadata": {},
   "source": [
    "#### Dataset Pipeline"
   ]
  },
  {
   "cell_type": "markdown",
   "id": "e4df0f66-c000-4d4d-9f63-3f475ba9b0ac",
   "metadata": {},
   "source": [
    "##### Loading the training and validation dataset"
   ]
  },
  {
   "cell_type": "code",
   "execution_count": 46,
   "id": "b49928e4-6a55-48f6-a69c-45125a05055d",
   "metadata": {
    "tags": []
   },
   "outputs": [],
   "source": [
    "def load_data(path):\n",
    "    train_x = sorted(glob(os.path.join(path, \"train\", \"images\", \"*\")))\n",
    "    train_y = sorted(glob(os.path.join(path, \"train\", \"masks\", \"*\")))\n",
    "    \n",
    "    valid_x = sorted(glob(os.path.join(path, \"valid\", \"images\", \"*\")))\n",
    "    valid_y = sorted(glob(os.path.join(path, \"valid\", \"masks\", \"*\")))\n",
    "    \n",
    "    \n",
    "    return (train_x, train_y), (valid_x, valid_y)"
   ]
  },
  {
   "cell_type": "markdown",
   "id": "674e5349-07b2-4466-97cd-4bcf435b7e7a",
   "metadata": {},
   "source": [
    "##### Reading Images"
   ]
  },
  {
   "cell_type": "code",
   "execution_count": 15,
   "id": "5b02d5d6-d024-48f9-9ef6-693b63234bd5",
   "metadata": {
    "tags": []
   },
   "outputs": [],
   "source": [
    "target_height = 1100\n",
    "target_width = 1344"
   ]
  },
  {
   "cell_type": "code",
   "execution_count": 36,
   "id": "c32d5e3c-fbcc-42d8-a54a-ef712e5e4d57",
   "metadata": {
    "tags": []
   },
   "outputs": [],
   "source": [
    "def read_image(path):\n",
    "    path = path.decode()\n",
    "    x = cv2.imread(path, cv2.IMREAD_COLOR)\n",
    "    x = cv2.resize(x, (target_width, target_height), interpolation=cv2.INTER_AREA)\n",
    "    x = x/255.0\n",
    "    return x"
   ]
  },
  {
   "cell_type": "markdown",
   "id": "696245e3-111a-4382-816c-86e5703261b4",
   "metadata": {},
   "source": [
    "##### Reading Masks"
   ]
  },
  {
   "cell_type": "code",
   "execution_count": 37,
   "id": "f41ed40d-1c58-4c0b-a271-87260f584717",
   "metadata": {
    "tags": []
   },
   "outputs": [],
   "source": [
    "def read_mask(path):\n",
    "    path = path.decode()\n",
    "    x = cv2.imread(path, cv2.IMREAD_GRAYSCALE)\n",
    "    x = cv2.resize(x, (target_width, target_height), interpolation=cv2.INTER_AREA)\n",
    "    x = x/255.0\n",
    "    x = np.expand_dims(x, axis=-1)\n",
    "    return x"
   ]
  },
  {
   "cell_type": "markdown",
   "id": "a73790b5-f435-4a89-83db-47f0a5062931",
   "metadata": {},
   "source": [
    "##### tf.data pipeline"
   ]
  },
  {
   "cell_type": "code",
   "execution_count": 38,
   "id": "bb6d226f-d453-468c-8aa2-9eb4ccf6d0f4",
   "metadata": {
    "tags": []
   },
   "outputs": [],
   "source": [
    "def tf_parse(x,y):\n",
    "    def _parse(x, y):\n",
    "        x = read_image(x)\n",
    "        y = read_mask(y)\n",
    "        return x, y\n",
    "    \n",
    "    x, y = tf.numpy_function(_parse, [x, y], [tf.float64, tf.float64])\n",
    "    x.set_shape([height, width, 3])\n",
    "    y.set_shape([height, width, 1])\n",
    "    \n",
    "    return x, y"
   ]
  },
  {
   "cell_type": "code",
   "execution_count": 39,
   "id": "51f6fa6e-14f8-4100-ad1c-1f71f188b23f",
   "metadata": {
    "tags": []
   },
   "outputs": [],
   "source": [
    "def tf_dataset(x, y, batch=8):\n",
    "    dataset = tf.data.Dataset.from_tensor_slices((x,y))\n",
    "    dataset = dataset.map(tf_parse, num_parallel_calls=tf.data.AUTOTUNE)\n",
    "    dataset = dataset.batch(batch)\n",
    "    dataset = dataset.prefetch(tf.data.AUTOTUNE)\n",
    "    return dataset"
   ]
  },
  {
   "cell_type": "markdown",
   "id": "3e0c76a8-f9e2-4239-8780-1aeaf64cf81b",
   "metadata": {},
   "source": [
    "#### Training"
   ]
  },
  {
   "cell_type": "code",
   "execution_count": 47,
   "id": "54050714-1144-4b81-b894-c64766844a13",
   "metadata": {
    "tags": []
   },
   "outputs": [
    {
     "name": "stdout",
     "output_type": "stream",
     "text": [
      "Train: 200 - 200\n",
      "Valid: 12 - 12\n"
     ]
    }
   ],
   "source": [
    "(train_x, train_y), (valid_x, valid_y) = load_data(dataset_path)\n",
    "print(f\"Train: {len(train_x)} - {len(train_y)}\")\n",
    "print(f\"Valid: {len(valid_x)} - {len(valid_y)}\")"
   ]
  },
  {
   "cell_type": "code",
   "execution_count": 48,
   "id": "67679e0f-0059-400a-90ca-fa509f993f4c",
   "metadata": {
    "tags": []
   },
   "outputs": [
    {
     "name": "stderr",
     "output_type": "stream",
     "text": [
      "2024-07-26 16:32:01.257466: I tensorflow/core/platform/cpu_feature_guard.cc:151] This TensorFlow binary is optimized with oneAPI Deep Neural Network Library (oneDNN) to use the following CPU instructions in performance-critical operations:  SSE4.1 SSE4.2 AVX AVX2 FMA\n",
      "To enable them in other operations, rebuild TensorFlow with the appropriate compiler flags.\n",
      "2024-07-26 16:32:01.961836: I tensorflow/core/common_runtime/gpu/gpu_device.cc:1525] Created device /job:localhost/replica:0/task:0/device:GPU:0 with 78902 MB memory:  -> device: 0, name: NVIDIA A100-SXM4-80GB, pci bus id: 0000:47:00.0, compute capability: 8.0\n"
     ]
    }
   ],
   "source": [
    "train_dataset = tf_dataset(train_x, train_y, batch=batch_size)\n",
    "valid_dataset = tf_dataset(valid_x, valid_y, batch=batch_size)"
   ]
  },
  {
   "cell_type": "code",
   "execution_count": 51,
   "id": "97667f2c-82ec-45b4-b4b7-4c551f5c2f6d",
   "metadata": {
    "tags": []
   },
   "outputs": [],
   "source": [
    "input_shape = (height, width, 3)\n",
    "model = build_unet(input_shape)"
   ]
  },
  {
   "cell_type": "code",
   "execution_count": 53,
   "id": "a52d7782-82d2-467e-8d50-fd6d01a9d087",
   "metadata": {
    "tags": []
   },
   "outputs": [
    {
     "name": "stdout",
     "output_type": "stream",
     "text": [
      "Model: \"UNET\"\n",
      "__________________________________________________________________________________________________\n",
      " Layer (type)                   Output Shape         Param #     Connected to                     \n",
      "==================================================================================================\n",
      " input_2 (InputLayer)           [(None, 1100, 1344,  0           []                               \n",
      "                                 3)]                                                              \n",
      "                                                                                                  \n",
      " conv2d_19 (Conv2D)             (None, 1100, 1344,   1792        ['input_2[0][0]']                \n",
      "                                64)                                                               \n",
      "                                                                                                  \n",
      " batch_normalization_18 (BatchN  (None, 1100, 1344,   256        ['conv2d_19[0][0]']              \n",
      " ormalization)                  64)                                                               \n",
      "                                                                                                  \n",
      " activation_18 (Activation)     (None, 1100, 1344,   0           ['batch_normalization_18[0][0]'] \n",
      "                                64)                                                               \n",
      "                                                                                                  \n",
      " conv2d_20 (Conv2D)             (None, 1100, 1344,   36928       ['activation_18[0][0]']          \n",
      "                                64)                                                               \n",
      "                                                                                                  \n",
      " batch_normalization_19 (BatchN  (None, 1100, 1344,   256        ['conv2d_20[0][0]']              \n",
      " ormalization)                  64)                                                               \n",
      "                                                                                                  \n",
      " activation_19 (Activation)     (None, 1100, 1344,   0           ['batch_normalization_19[0][0]'] \n",
      "                                64)                                                               \n",
      "                                                                                                  \n",
      " max_pooling2d_4 (MaxPooling2D)  (None, 550, 672, 64  0          ['activation_19[0][0]']          \n",
      "                                )                                                                 \n",
      "                                                                                                  \n",
      " conv2d_21 (Conv2D)             (None, 550, 672, 12  73856       ['max_pooling2d_4[0][0]']        \n",
      "                                8)                                                                \n",
      "                                                                                                  \n",
      " batch_normalization_20 (BatchN  (None, 550, 672, 12  512        ['conv2d_21[0][0]']              \n",
      " ormalization)                  8)                                                                \n",
      "                                                                                                  \n",
      " activation_20 (Activation)     (None, 550, 672, 12  0           ['batch_normalization_20[0][0]'] \n",
      "                                8)                                                                \n",
      "                                                                                                  \n",
      " conv2d_22 (Conv2D)             (None, 550, 672, 12  147584      ['activation_20[0][0]']          \n",
      "                                8)                                                                \n",
      "                                                                                                  \n",
      " batch_normalization_21 (BatchN  (None, 550, 672, 12  512        ['conv2d_22[0][0]']              \n",
      " ormalization)                  8)                                                                \n",
      "                                                                                                  \n",
      " activation_21 (Activation)     (None, 550, 672, 12  0           ['batch_normalization_21[0][0]'] \n",
      "                                8)                                                                \n",
      "                                                                                                  \n",
      " max_pooling2d_5 (MaxPooling2D)  (None, 275, 336, 12  0          ['activation_21[0][0]']          \n",
      "                                8)                                                                \n",
      "                                                                                                  \n",
      " conv2d_23 (Conv2D)             (None, 275, 336, 25  295168      ['max_pooling2d_5[0][0]']        \n",
      "                                6)                                                                \n",
      "                                                                                                  \n",
      " batch_normalization_22 (BatchN  (None, 275, 336, 25  1024       ['conv2d_23[0][0]']              \n",
      " ormalization)                  6)                                                                \n",
      "                                                                                                  \n",
      " activation_22 (Activation)     (None, 275, 336, 25  0           ['batch_normalization_22[0][0]'] \n",
      "                                6)                                                                \n",
      "                                                                                                  \n",
      " conv2d_24 (Conv2D)             (None, 275, 336, 25  590080      ['activation_22[0][0]']          \n",
      "                                6)                                                                \n",
      "                                                                                                  \n",
      " batch_normalization_23 (BatchN  (None, 275, 336, 25  1024       ['conv2d_24[0][0]']              \n",
      " ormalization)                  6)                                                                \n",
      "                                                                                                  \n",
      " activation_23 (Activation)     (None, 275, 336, 25  0           ['batch_normalization_23[0][0]'] \n",
      "                                6)                                                                \n",
      "                                                                                                  \n",
      " max_pooling2d_6 (MaxPooling2D)  (None, 137, 168, 25  0          ['activation_23[0][0]']          \n",
      "                                6)                                                                \n",
      "                                                                                                  \n",
      " conv2d_25 (Conv2D)             (None, 137, 168, 51  1180160     ['max_pooling2d_6[0][0]']        \n",
      "                                2)                                                                \n",
      "                                                                                                  \n",
      " batch_normalization_24 (BatchN  (None, 137, 168, 51  2048       ['conv2d_25[0][0]']              \n",
      " ormalization)                  2)                                                                \n",
      "                                                                                                  \n",
      " activation_24 (Activation)     (None, 137, 168, 51  0           ['batch_normalization_24[0][0]'] \n",
      "                                2)                                                                \n",
      "                                                                                                  \n",
      " conv2d_26 (Conv2D)             (None, 137, 168, 51  2359808     ['activation_24[0][0]']          \n",
      "                                2)                                                                \n",
      "                                                                                                  \n",
      " batch_normalization_25 (BatchN  (None, 137, 168, 51  2048       ['conv2d_26[0][0]']              \n",
      " ormalization)                  2)                                                                \n",
      "                                                                                                  \n",
      " activation_25 (Activation)     (None, 137, 168, 51  0           ['batch_normalization_25[0][0]'] \n",
      "                                2)                                                                \n",
      "                                                                                                  \n",
      " max_pooling2d_7 (MaxPooling2D)  (None, 68, 84, 512)  0          ['activation_25[0][0]']          \n",
      "                                                                                                  \n",
      " conv2d_27 (Conv2D)             (None, 68, 84, 1024  4719616     ['max_pooling2d_7[0][0]']        \n",
      "                                )                                                                 \n",
      "                                                                                                  \n",
      " batch_normalization_26 (BatchN  (None, 68, 84, 1024  4096       ['conv2d_27[0][0]']              \n",
      " ormalization)                  )                                                                 \n",
      "                                                                                                  \n",
      " activation_26 (Activation)     (None, 68, 84, 1024  0           ['batch_normalization_26[0][0]'] \n",
      "                                )                                                                 \n",
      "                                                                                                  \n",
      " conv2d_28 (Conv2D)             (None, 68, 84, 1024  9438208     ['activation_26[0][0]']          \n",
      "                                )                                                                 \n",
      "                                                                                                  \n",
      " batch_normalization_27 (BatchN  (None, 68, 84, 1024  4096       ['conv2d_28[0][0]']              \n",
      " ormalization)                  )                                                                 \n",
      "                                                                                                  \n",
      " activation_27 (Activation)     (None, 68, 84, 1024  0           ['batch_normalization_27[0][0]'] \n",
      "                                )                                                                 \n",
      "                                                                                                  \n",
      " conv2d_transpose_4 (Conv2DTran  (None, 136, 168, 51  2097664    ['activation_27[0][0]']          \n",
      " spose)                         2)                                                                \n",
      "                                                                                                  \n",
      " zero_padding2d_2 (ZeroPadding2  (None, 137, 168, 51  0          ['conv2d_transpose_4[0][0]']     \n",
      " D)                             2)                                                                \n",
      "                                                                                                  \n",
      " concatenate_4 (Concatenate)    (None, 137, 168, 10  0           ['zero_padding2d_2[0][0]',       \n",
      "                                24)                               'activation_25[0][0]']          \n",
      "                                                                                                  \n",
      " conv2d_29 (Conv2D)             (None, 137, 168, 51  4719104     ['concatenate_4[0][0]']          \n",
      "                                2)                                                                \n",
      "                                                                                                  \n",
      " batch_normalization_28 (BatchN  (None, 137, 168, 51  2048       ['conv2d_29[0][0]']              \n",
      " ormalization)                  2)                                                                \n",
      "                                                                                                  \n",
      " activation_28 (Activation)     (None, 137, 168, 51  0           ['batch_normalization_28[0][0]'] \n",
      "                                2)                                                                \n",
      "                                                                                                  \n",
      " conv2d_30 (Conv2D)             (None, 137, 168, 51  2359808     ['activation_28[0][0]']          \n",
      "                                2)                                                                \n",
      "                                                                                                  \n",
      " batch_normalization_29 (BatchN  (None, 137, 168, 51  2048       ['conv2d_30[0][0]']              \n",
      " ormalization)                  2)                                                                \n",
      "                                                                                                  \n",
      " activation_29 (Activation)     (None, 137, 168, 51  0           ['batch_normalization_29[0][0]'] \n",
      "                                2)                                                                \n",
      "                                                                                                  \n",
      " conv2d_transpose_5 (Conv2DTran  (None, 274, 336, 25  524544     ['activation_29[0][0]']          \n",
      " spose)                         6)                                                                \n",
      "                                                                                                  \n",
      " zero_padding2d_3 (ZeroPadding2  (None, 275, 336, 25  0          ['conv2d_transpose_5[0][0]']     \n",
      " D)                             6)                                                                \n",
      "                                                                                                  \n",
      " concatenate_5 (Concatenate)    (None, 275, 336, 51  0           ['zero_padding2d_3[0][0]',       \n",
      "                                2)                                'activation_23[0][0]']          \n",
      "                                                                                                  \n",
      " conv2d_31 (Conv2D)             (None, 275, 336, 25  1179904     ['concatenate_5[0][0]']          \n",
      "                                6)                                                                \n",
      "                                                                                                  \n",
      " batch_normalization_30 (BatchN  (None, 275, 336, 25  1024       ['conv2d_31[0][0]']              \n",
      " ormalization)                  6)                                                                \n",
      "                                                                                                  \n",
      " activation_30 (Activation)     (None, 275, 336, 25  0           ['batch_normalization_30[0][0]'] \n",
      "                                6)                                                                \n",
      "                                                                                                  \n",
      " conv2d_32 (Conv2D)             (None, 275, 336, 25  590080      ['activation_30[0][0]']          \n",
      "                                6)                                                                \n",
      "                                                                                                  \n",
      " batch_normalization_31 (BatchN  (None, 275, 336, 25  1024       ['conv2d_32[0][0]']              \n",
      " ormalization)                  6)                                                                \n",
      "                                                                                                  \n",
      " activation_31 (Activation)     (None, 275, 336, 25  0           ['batch_normalization_31[0][0]'] \n",
      "                                6)                                                                \n",
      "                                                                                                  \n",
      " conv2d_transpose_6 (Conv2DTran  (None, 550, 672, 12  131200     ['activation_31[0][0]']          \n",
      " spose)                         8)                                                                \n",
      "                                                                                                  \n",
      " concatenate_6 (Concatenate)    (None, 550, 672, 25  0           ['conv2d_transpose_6[0][0]',     \n",
      "                                6)                                'activation_21[0][0]']          \n",
      "                                                                                                  \n",
      " conv2d_33 (Conv2D)             (None, 550, 672, 12  295040      ['concatenate_6[0][0]']          \n",
      "                                8)                                                                \n",
      "                                                                                                  \n",
      " batch_normalization_32 (BatchN  (None, 550, 672, 12  512        ['conv2d_33[0][0]']              \n",
      " ormalization)                  8)                                                                \n",
      "                                                                                                  \n",
      " activation_32 (Activation)     (None, 550, 672, 12  0           ['batch_normalization_32[0][0]'] \n",
      "                                8)                                                                \n",
      "                                                                                                  \n",
      " conv2d_34 (Conv2D)             (None, 550, 672, 12  147584      ['activation_32[0][0]']          \n",
      "                                8)                                                                \n",
      "                                                                                                  \n",
      " batch_normalization_33 (BatchN  (None, 550, 672, 12  512        ['conv2d_34[0][0]']              \n",
      " ormalization)                  8)                                                                \n",
      "                                                                                                  \n",
      " activation_33 (Activation)     (None, 550, 672, 12  0           ['batch_normalization_33[0][0]'] \n",
      "                                8)                                                                \n",
      "                                                                                                  \n",
      " conv2d_transpose_7 (Conv2DTran  (None, 1100, 1344,   32832      ['activation_33[0][0]']          \n",
      " spose)                         64)                                                               \n",
      "                                                                                                  \n",
      " concatenate_7 (Concatenate)    (None, 1100, 1344,   0           ['conv2d_transpose_7[0][0]',     \n",
      "                                128)                              'activation_19[0][0]']          \n",
      "                                                                                                  \n",
      " conv2d_35 (Conv2D)             (None, 1100, 1344,   73792       ['concatenate_7[0][0]']          \n",
      "                                64)                                                               \n",
      "                                                                                                  \n",
      " batch_normalization_34 (BatchN  (None, 1100, 1344,   256        ['conv2d_35[0][0]']              \n",
      " ormalization)                  64)                                                               \n",
      "                                                                                                  \n",
      " activation_34 (Activation)     (None, 1100, 1344,   0           ['batch_normalization_34[0][0]'] \n",
      "                                64)                                                               \n",
      "                                                                                                  \n",
      " conv2d_36 (Conv2D)             (None, 1100, 1344,   36928       ['activation_34[0][0]']          \n",
      "                                64)                                                               \n",
      "                                                                                                  \n",
      " batch_normalization_35 (BatchN  (None, 1100, 1344,   256        ['conv2d_36[0][0]']              \n",
      " ormalization)                  64)                                                               \n",
      "                                                                                                  \n",
      " activation_35 (Activation)     (None, 1100, 1344,   0           ['batch_normalization_35[0][0]'] \n",
      "                                64)                                                               \n",
      "                                                                                                  \n",
      " conv2d_37 (Conv2D)             (None, 1100, 1344,   65          ['activation_35[0][0]']          \n",
      "                                1)                                                                \n",
      "                                                                                                  \n",
      "==================================================================================================\n",
      "Total params: 31,055,297\n",
      "Trainable params: 31,043,521\n",
      "Non-trainable params: 11,776\n",
      "__________________________________________________________________________________________________\n"
     ]
    }
   ],
   "source": [
    "model.summary()"
   ]
  },
  {
   "cell_type": "code",
   "execution_count": 54,
   "id": "00dfe6de-5179-4ab2-bef5-a5e532119f8e",
   "metadata": {
    "tags": []
   },
   "outputs": [],
   "source": [
    "opt = tf.keras.optimizers.Adam(lr)\n",
    "model.compile(loss=\"binary_crossentropy\", optimizer=opt, metrics=[\"acc\"])"
   ]
  },
  {
   "cell_type": "code",
   "execution_count": 55,
   "id": "b818b0db-d198-4695-9b26-319885d79d93",
   "metadata": {
    "tags": []
   },
   "outputs": [],
   "source": [
    "callbacks = [\n",
    "    ModelCheckpoint(model_file, verbose=1, save_best_only=True),\n",
    "    ReduceLROnPlateau(monitor='val_loss', factor=0.1, patience=4),\n",
    "    CSVLogger(log_file),\n",
    "    EarlyStopping(monitor='val_loss', patience=20, restore_best_weights=False)\n",
    "]"
   ]
  },
  {
   "cell_type": "code",
   "execution_count": null,
   "id": "2c2e6bd7-6a28-44fb-967f-52dd1e6c816b",
   "metadata": {
    "tags": []
   },
   "outputs": [
    {
     "name": "stdout",
     "output_type": "stream",
     "text": [
      "Epoch 1/25\n"
     ]
    },
    {
     "name": "stderr",
     "output_type": "stream",
     "text": [
      "2024-07-26 16:32:43.435443: I tensorflow/stream_executor/cuda/cuda_dnn.cc:366] Loaded cuDNN version 8201\n"
     ]
    },
    {
     "name": "stdout",
     "output_type": "stream",
     "text": [
      "50/50 [==============================] - ETA: 0s - loss: 0.7186 - acc: 0.6147\n",
      "Epoch 00001: val_loss improved from inf to 0.71036, saving model to /blue/pinaki.sarder/iansari/images/model/H-E/files/new-images-aug-25-epochs-batch4-all/unet-aug.h5\n",
      "50/50 [==============================] - 92s 1s/step - loss: 0.7186 - acc: 0.6147 - val_loss: 0.7104 - val_acc: 0.3913 - lr: 1.0000e-04\n",
      "Epoch 2/25\n",
      "50/50 [==============================] - ETA: 0s - loss: 0.5695 - acc: 0.7370\n",
      "Epoch 00002: val_loss improved from 0.71036 to 0.63688, saving model to /blue/pinaki.sarder/iansari/images/model/H-E/files/new-images-aug-25-epochs-batch4-all/unet-aug.h5\n",
      "50/50 [==============================] - 109s 2s/step - loss: 0.5695 - acc: 0.7370 - val_loss: 0.6369 - val_acc: 0.7010 - lr: 1.0000e-04\n",
      "Epoch 3/25\n",
      "50/50 [==============================] - ETA: 0s - loss: 0.5193 - acc: 0.7580\n",
      "Epoch 00003: val_loss did not improve from 0.63688\n",
      "50/50 [==============================] - 147s 3s/step - loss: 0.5193 - acc: 0.7580 - val_loss: 0.8977 - val_acc: 0.6980 - lr: 1.0000e-04\n",
      "Epoch 4/25\n",
      "50/50 [==============================] - ETA: 0s - loss: 0.4859 - acc: 0.7754\n",
      "Epoch 00004: val_loss did not improve from 0.63688\n",
      "50/50 [==============================] - 266s 5s/step - loss: 0.4859 - acc: 0.7754 - val_loss: 1.4059 - val_acc: 0.6980 - lr: 1.0000e-04\n",
      "Epoch 5/25\n",
      "50/50 [==============================] - ETA: 0s - loss: 0.4526 - acc: 0.7905\n",
      "Epoch 00005: val_loss did not improve from 0.63688\n",
      "50/50 [==============================] - 69s 1s/step - loss: 0.4526 - acc: 0.7905 - val_loss: 1.5723 - val_acc: 0.6980 - lr: 1.0000e-04\n",
      "Epoch 6/25\n",
      "50/50 [==============================] - ETA: 0s - loss: 0.4278 - acc: 0.8056\n",
      "Epoch 00006: val_loss did not improve from 0.63688\n",
      "50/50 [==============================] - 110s 2s/step - loss: 0.4278 - acc: 0.8056 - val_loss: 0.9791 - val_acc: 0.6979 - lr: 1.0000e-04\n",
      "Epoch 7/25\n",
      "50/50 [==============================] - ETA: 0s - loss: 0.4044 - acc: 0.8173\n",
      "Epoch 00007: val_loss did not improve from 0.63688\n",
      "50/50 [==============================] - 49s 976ms/step - loss: 0.4044 - acc: 0.8173 - val_loss: 0.6785 - val_acc: 0.7010 - lr: 1.0000e-05\n",
      "Epoch 8/25\n",
      "50/50 [==============================] - ETA: 0s - loss: 0.3685 - acc: 0.8406\n",
      "Epoch 00008: val_loss improved from 0.63688 to 0.61929, saving model to /blue/pinaki.sarder/iansari/images/model/H-E/files/new-images-aug-25-epochs-batch4-all/unet-aug.h5\n",
      "50/50 [==============================] - 63s 1s/step - loss: 0.3685 - acc: 0.8406 - val_loss: 0.6193 - val_acc: 0.7020 - lr: 1.0000e-05\n",
      "Epoch 9/25\n",
      "50/50 [==============================] - ETA: 0s - loss: 0.3580 - acc: 0.8445\n",
      "Epoch 00009: val_loss improved from 0.61929 to 0.56399, saving model to /blue/pinaki.sarder/iansari/images/model/H-E/files/new-images-aug-25-epochs-batch4-all/unet-aug.h5\n",
      "50/50 [==============================] - 121s 2s/step - loss: 0.3580 - acc: 0.8445 - val_loss: 0.5640 - val_acc: 0.7225 - lr: 1.0000e-05\n",
      "Epoch 10/25\n",
      "50/50 [==============================] - ETA: 0s - loss: 0.3502 - acc: 0.8487\n",
      "Epoch 00010: val_loss improved from 0.56399 to 0.51540, saving model to /blue/pinaki.sarder/iansari/images/model/H-E/files/new-images-aug-25-epochs-batch4-all/unet-aug.h5\n",
      "50/50 [==============================] - 52s 1s/step - loss: 0.3502 - acc: 0.8487 - val_loss: 0.5154 - val_acc: 0.7442 - lr: 1.0000e-05\n",
      "Epoch 11/25\n",
      "50/50 [==============================] - ETA: 0s - loss: 0.3426 - acc: 0.8529\n",
      "Epoch 00011: val_loss improved from 0.51540 to 0.49370, saving model to /blue/pinaki.sarder/iansari/images/model/H-E/files/new-images-aug-25-epochs-batch4-all/unet-aug.h5\n",
      "50/50 [==============================] - 50s 989ms/step - loss: 0.3426 - acc: 0.8529 - val_loss: 0.4937 - val_acc: 0.7512 - lr: 1.0000e-05\n",
      "Epoch 12/25\n",
      "50/50 [==============================] - ETA: 0s - loss: 0.3353 - acc: 0.8569\n",
      "Epoch 00012: val_loss improved from 0.49370 to 0.49011, saving model to /blue/pinaki.sarder/iansari/images/model/H-E/files/new-images-aug-25-epochs-batch4-all/unet-aug.h5\n",
      "50/50 [==============================] - 50s 990ms/step - loss: 0.3353 - acc: 0.8569 - val_loss: 0.4901 - val_acc: 0.7500 - lr: 1.0000e-05\n",
      "Epoch 13/25\n",
      "50/50 [==============================] - ETA: 0s - loss: 0.3286 - acc: 0.8604\n",
      "Epoch 00013: val_loss did not improve from 0.49011\n",
      "50/50 [==============================] - 48s 963ms/step - loss: 0.3286 - acc: 0.8604 - val_loss: 0.5048 - val_acc: 0.7450 - lr: 1.0000e-05\n",
      "Epoch 14/25\n",
      "50/50 [==============================] - ETA: 0s - loss: 0.3216 - acc: 0.8643\n",
      "Epoch 00014: val_loss did not improve from 0.49011\n",
      "50/50 [==============================] - 49s 967ms/step - loss: 0.3216 - acc: 0.8643 - val_loss: 0.5185 - val_acc: 0.7431 - lr: 1.0000e-05\n",
      "Epoch 15/25\n",
      "50/50 [==============================] - ETA: 0s - loss: 0.3139 - acc: 0.8687\n",
      "Epoch 00015: val_loss did not improve from 0.49011\n",
      "50/50 [==============================] - 49s 965ms/step - loss: 0.3139 - acc: 0.8687 - val_loss: 0.5265 - val_acc: 0.7402 - lr: 1.0000e-05\n",
      "Epoch 16/25\n",
      "50/50 [==============================] - ETA: 0s - loss: 0.3069 - acc: 0.8723\n",
      "Epoch 00016: val_loss did not improve from 0.49011\n",
      "50/50 [==============================] - 49s 970ms/step - loss: 0.3069 - acc: 0.8723 - val_loss: 0.5311 - val_acc: 0.7358 - lr: 1.0000e-05\n",
      "Epoch 17/25\n",
      "50/50 [==============================] - ETA: 0s - loss: 0.2906 - acc: 0.8828\n",
      "Epoch 00017: val_loss did not improve from 0.49011\n",
      "50/50 [==============================] - 49s 981ms/step - loss: 0.2906 - acc: 0.8828 - val_loss: 0.5169 - val_acc: 0.7525 - lr: 1.0000e-06\n",
      "Epoch 18/25\n",
      "50/50 [==============================] - ETA: 0s - loss: 0.2874 - acc: 0.8844\n",
      "Epoch 00018: val_loss did not improve from 0.49011\n",
      "50/50 [==============================] - 49s 972ms/step - loss: 0.2874 - acc: 0.8844 - val_loss: 0.5190 - val_acc: 0.7564 - lr: 1.0000e-06\n",
      "Epoch 19/25\n",
      "50/50 [==============================] - ETA: 0s - loss: 0.2859 - acc: 0.8853\n",
      "Epoch 00019: val_loss did not improve from 0.49011\n",
      "50/50 [==============================] - 49s 965ms/step - loss: 0.2859 - acc: 0.8853 - val_loss: 0.5216 - val_acc: 0.7581 - lr: 1.0000e-06\n",
      "Epoch 20/25\n",
      "50/50 [==============================] - ETA: 0s - loss: 0.2846 - acc: 0.8861\n",
      "Epoch 00020: val_loss did not improve from 0.49011\n",
      "50/50 [==============================] - 49s 964ms/step - loss: 0.2846 - acc: 0.8861 - val_loss: 0.5245 - val_acc: 0.7593 - lr: 1.0000e-06\n",
      "Epoch 21/25\n",
      "50/50 [==============================] - ETA: 0s - loss: 0.2826 - acc: 0.8874\n",
      "Epoch 00021: val_loss did not improve from 0.49011\n",
      "50/50 [==============================] - 50s 982ms/step - loss: 0.2826 - acc: 0.8874 - val_loss: 0.5258 - val_acc: 0.7599 - lr: 1.0000e-07\n",
      "Epoch 22/25\n",
      "50/50 [==============================] - ETA: 0s - loss: 0.2825 - acc: 0.8874\n",
      "Epoch 00022: val_loss did not improve from 0.49011\n",
      "50/50 [==============================] - 49s 963ms/step - loss: 0.2825 - acc: 0.8874 - val_loss: 0.5266 - val_acc: 0.7603 - lr: 1.0000e-07\n",
      "Epoch 23/25\n",
      "50/50 [==============================] - ETA: 0s - loss: 0.2824 - acc: 0.8875\n",
      "Epoch 00023: val_loss did not improve from 0.49011\n",
      "50/50 [==============================] - 49s 957ms/step - loss: 0.2824 - acc: 0.8875 - val_loss: 0.5272 - val_acc: 0.7605 - lr: 1.0000e-07\n",
      "Epoch 24/25\n",
      "50/50 [==============================] - ETA: 0s - loss: 0.2823 - acc: 0.8876\n",
      "Epoch 00024: val_loss did not improve from 0.49011\n",
      "50/50 [==============================] - 48s 952ms/step - loss: 0.2823 - acc: 0.8876 - val_loss: 0.5277 - val_acc: 0.7606 - lr: 1.0000e-07\n",
      "Epoch 25/25\n",
      "50/50 [==============================] - ETA: 0s - loss: 0.2821 - acc: 0.8877"
     ]
    }
   ],
   "source": [
    "model.fit(\n",
    "    train_dataset,\n",
    "    validation_data=valid_dataset,\n",
    "    epochs=epochs,\n",
    "    callbacks=callbacks\n",
    ")"
   ]
  },
  {
   "cell_type": "markdown",
   "id": "ac6db143-3731-40ab-8bec-18a448f26f6d",
   "metadata": {},
   "source": [
    "### Testing the model"
   ]
  },
  {
   "cell_type": "markdown",
   "id": "600c6b34-8979-44c9-96db-75e3efc4f92a",
   "metadata": {},
   "source": [
    "#### creating folder to save the predictions and model"
   ]
  },
  {
   "cell_type": "code",
   "execution_count": 16,
   "id": "32974cb3-e72f-4485-b9e3-f78037f25da8",
   "metadata": {},
   "outputs": [],
   "source": [
    "test_dataset_path = './dataset/test'\n",
    "save_path = \"./predictions\"\n",
    "model_path = \"files/unet.h5\""
   ]
  },
  {
   "cell_type": "code",
   "execution_count": 17,
   "id": "98b1c2f2-ee5b-4b80-86b5-bbf729115a4e",
   "metadata": {
    "tags": []
   },
   "outputs": [],
   "source": [
    "create_dir(save_path)"
   ]
  },
  {
   "cell_type": "code",
   "execution_count": 9,
   "id": "675799e4-5744-4314-ba9f-8d7ec15ab804",
   "metadata": {
    "tags": []
   },
   "outputs": [
    {
     "name": "stderr",
     "output_type": "stream",
     "text": [
      "2024-07-27 01:18:58.326802: I tensorflow/core/platform/cpu_feature_guard.cc:151] This TensorFlow binary is optimized with oneAPI Deep Neural Network Library (oneDNN) to use the following CPU instructions in performance-critical operations:  SSE4.1 SSE4.2 AVX AVX2 FMA\n",
      "To enable them in other operations, rebuild TensorFlow with the appropriate compiler flags.\n",
      "2024-07-27 01:18:59.253753: I tensorflow/core/common_runtime/gpu/gpu_device.cc:1525] Created device /job:localhost/replica:0/task:0/device:GPU:0 with 78902 MB memory:  -> device: 0, name: NVIDIA A100-SXM4-80GB, pci bus id: 0000:47:00.0, compute capability: 8.0\n"
     ]
    }
   ],
   "source": [
    "model = tf.keras.models.load_model(model_path)"
   ]
  },
  {
   "cell_type": "markdown",
   "id": "f9d8066e-98ff-4c6a-807a-d85e2c7dea33",
   "metadata": {},
   "source": [
    "#### loading the test images"
   ]
  },
  {
   "cell_type": "code",
   "execution_count": 18,
   "id": "366c7c79-80d0-4aa7-ba5e-2c3abde6c3f2",
   "metadata": {
    "tags": []
   },
   "outputs": [
    {
     "name": "stdout",
     "output_type": "stream",
     "text": [
      "Test Images: 12\n"
     ]
    }
   ],
   "source": [
    "test_x = glob(os.path.join(test_dataset_path, \"images\", \"*\"))\n",
    "print(f\"Test Images: {len(test_x)}\")"
   ]
  },
  {
   "cell_type": "markdown",
   "id": "12ae3a15-dd44-47e8-b491-47958d2184fd",
   "metadata": {},
   "source": [
    "#### predicting and saving"
   ]
  },
  {
   "cell_type": "code",
   "execution_count": 17,
   "id": "2f7ea594-7531-413e-82af-da3c749c8b3f",
   "metadata": {
    "tags": []
   },
   "outputs": [
    {
     "name": "stderr",
     "output_type": "stream",
     "text": [
      "  0%|          | 0/12 [00:00<?, ?it/s]2024-07-27 01:20:14.510942: I tensorflow/stream_executor/cuda/cuda_dnn.cc:366] Loaded cuDNN version 8201\n",
      "100%|██████████| 12/12 [00:09<00:00,  1.26it/s]\n"
     ]
    }
   ],
   "source": [
    "time_taken = []\n",
    "for x in tqdm(test_x):\n",
    "    name = x.split(\"/\")[-1].split(\".\")[0]  # Use os.path.split to get the filename\n",
    "    \n",
    "    x = cv2.imread(x, cv2.IMREAD_COLOR)\n",
    "    x = cv2.resize(x, (target_width, target_height), interpolation=cv2.INTER_AREA)\n",
    "    x = x / 255.0\n",
    "    x = np.expand_dims(x, axis=0)\n",
    "    \n",
    "    start_time = time.time()\n",
    "    p = model.predict(x)[0]\n",
    "    total_time = time.time() - start_time\n",
    "    time_taken.append(total_time)\n",
    "   \n",
    "    p = p * 255 \n",
    "    \n",
    "    p = p.astype(np.uint8)\n",
    "\n",
    "    cv2.imwrite(os.path.join(save_path, name), p)\n",
    "\n"
   ]
  },
  {
   "cell_type": "markdown",
   "id": "29225f35-8a61-4907-8b08-a36be3179641",
   "metadata": {},
   "source": [
    "### Metrics"
   ]
  },
  {
   "cell_type": "markdown",
   "id": "cf551a7a",
   "metadata": {},
   "source": [
    "#### Creating directory to save metrics"
   ]
  },
  {
   "cell_type": "code",
   "execution_count": null,
   "id": "e88ca533",
   "metadata": {},
   "outputs": [],
   "source": [
    "metrics_path = \"./metrics\"\n",
    "manual_metric_path = os.path.join(metrics_path, \"manual\")\n",
    "li_metric_path = os.path.join(metrics_path, \"li\")\n",
    "youden_metric_path = os.path.join(metrics_path, \"youden\")\n",
    "distance_metric_path = os.path.join(metrics_path, \"distance\")"
   ]
  },
  {
   "cell_type": "code",
   "execution_count": null,
   "id": "d5a00273",
   "metadata": {},
   "outputs": [],
   "source": [
    "create_dir(metrics_path)\n",
    "create_dir(manual_metric_path)\n",
    "create_dir(li_metric_path)\n",
    "create_dir(youden_metric_path)\n",
    "create_dir(distance_metric_path)"
   ]
  },
  {
   "cell_type": "markdown",
   "id": "352b003b-8301-4f78-98ba-2046a85500cf",
   "metadata": {},
   "source": [
    "#### Load predicted masks and ground truth mask"
   ]
  },
  {
   "cell_type": "code",
   "execution_count": 19,
   "id": "3eb06be6-d6fe-4fc0-823b-cf18ef1de7af",
   "metadata": {
    "tags": []
   },
   "outputs": [],
   "source": [
    "pred_mask = sorted(glob(os.path.join(\"predictions\", \"*\")))\n",
    "true_mask = sorted(glob(os.path.join(test_dataset_path, \"masks\", \"*\")))"
   ]
  },
  {
   "cell_type": "markdown",
   "id": "c00bfcf0-5fb4-4591-b6c6-aa90ddd869bd",
   "metadata": {},
   "source": [
    "### Function to calculate metrics"
   ]
  },
  {
   "cell_type": "code",
   "execution_count": 20,
   "id": "d8e702ba-56a1-4e3f-9fb9-7b00c3224fdc",
   "metadata": {},
   "outputs": [],
   "source": [
    "def calculate_metrics(true_y, pred_y):\n",
    "    # Calculate true positives, false positives, true negatives, false negatives\n",
    "    tp = np.sum((true_y == 1) & (pred_y == 1))\n",
    "    tn = np.sum((true_y == 0) & (pred_y == 0))\n",
    "    fp = np.sum((true_y == 0) & (pred_y == 1))\n",
    "    fn = np.sum((true_y == 1) & (pred_y == 0))\n",
    "\n",
    "    # Calculate accuracy\n",
    "    accuracy = (tp + tn) / (tp + tn + fp + fn)\n",
    "\n",
    "    # Calculate precision\n",
    "    precision = tp / (tp + fp) if (tp + fp) != 0 else 0\n",
    "\n",
    "    # Calculate recall\n",
    "    recall = tp / (tp + fn) if (tp + fn) != 0 else 0\n",
    "\n",
    "    # Calculate F1 score\n",
    "    f1 = 2 * (precision * recall) / (precision + recall) if (precision + recall) != 0 else 0\n",
    "\n",
    "    # Calculate Jaccard index (IoU)\n",
    "    jaccard = tp / (tp + fp + fn) if (tp + fp + fn) != 0 else 0\n",
    "\n",
    "    return accuracy, precision, recall, f1, jaccard\n"
   ]
  },
  {
   "cell_type": "markdown",
   "id": "a210b7fb-ad0b-4223-9a8b-9b315f84c8de",
   "metadata": {},
   "source": [
    "#### Metrics for 0.5 thresholding"
   ]
  },
  {
   "cell_type": "code",
   "execution_count": 21,
   "id": "5394053a-4efb-475c-a0b5-cbb963970b53",
   "metadata": {},
   "outputs": [
    {
     "name": "stderr",
     "output_type": "stream",
     "text": [
      "100%|██████████| 12/12 [00:00<00:00, 17.82it/s]\n"
     ]
    }
   ],
   "source": [
    "score = []\n",
    "\n",
    "for pred_y_path, true_y_path in tqdm(zip(pred_mask, true_mask), total=len(pred_mask)):\n",
    "    name = pred_y_path.split(\"/\")[-1].split(\".\")[0]\n",
    "    \n",
    "    # Load predicted mask and preprocess\n",
    "    pred_y = cv2.imread(pred_y_path, cv2.IMREAD_GRAYSCALE)\n",
    "    pred_y = pred_y / 255.0\n",
    "    pred_y = pred_y > 0.5\n",
    "    pred_y = pred_y.astype(np.int32)\n",
    "    # pred_y = pred_y.flatten()\n",
    "\n",
    "    # Load true mask and preprocess\n",
    "    true_y = cv2.imread(true_y_path, cv2.IMREAD_GRAYSCALE)\n",
    "    true_y = cv2.resize(true_y, (1344, 1100))  # Corrected resizing using OpenCV\n",
    "    true_y = true_y / 255.0\n",
    "    true_y = true_y > 0.5\n",
    "    true_y = true_y.astype(np.int32)\n",
    "    # true_y = true_y.flatten()\n",
    "    \n",
    "    pred_y1 = (pred_y * 255).astype(np.uint8)\n",
    "    save_path = f'./metrics/manual/0.5_{name}.png'  # Specify your save directory\n",
    "    cv2.imwrite(save_path, pred_y1)\n",
    "    \n",
    "\n",
    "    # Calculate metrics manually\n",
    "    accuracy, precision, recall, f1, jaccard = calculate_metrics(true_y, pred_y)\n",
    "\n",
    "    # Append results to score list\n",
    "    score.append([name, accuracy, f1, jaccard, recall, precision])\n"
   ]
  },
  {
   "cell_type": "markdown",
   "id": "43a8157c-b9aa-4165-bdf4-5f06a3dca2d3",
   "metadata": {},
   "source": [
    "##### Display Metrics for each image"
   ]
  },
  {
   "cell_type": "code",
   "execution_count": 22,
   "id": "e4713ec3-49ff-4410-a607-547de29bd28c",
   "metadata": {
    "tags": []
   },
   "outputs": [
    {
     "name": "stdout",
     "output_type": "stream",
     "text": [
      "        Name  Accuracy  F1 Score  Jaccard Index    Recall  Precision\n",
      "0   15_0.TIF  0.981011  0.607543       0.436310  0.590762   0.625306\n",
      "1   19_0.TIF  0.945170  0.388251       0.240888  0.385196   0.391355\n",
      "2   25_0.TIF  0.952045  0.367076       0.224797  0.333967   0.407472\n",
      "3   30_0.TIF  0.965121  0.242527       0.137997  0.168904   0.429926\n",
      "4    3_0.TIF  0.958256  0.084768       0.044260  0.044648   0.835917\n",
      "5   40_0.TIF  0.960983  0.052125       0.026760  0.029851   0.205334\n",
      "6   52_0.TIF  0.956330  0.278317       0.161654  0.214457   0.396339\n",
      "7   58_0.TIF  0.954264  0.536762       0.366832  0.526023   0.547949\n",
      "8   60_0.TIF  0.962662  0.055571       0.028579  0.029186   0.579173\n",
      "9   63_0.TIF  0.960085  0.524638       0.355599  0.543123   0.507370\n",
      "10   6_0.TIF  0.971784  0.136425       0.073206  0.080920   0.434353\n",
      "11  71_0.TIF  0.967417  0.000000       0.000000  0.000000   0.000000\n"
     ]
    }
   ],
   "source": [
    "import pandas as pd\n",
    "\n",
    "score_df = pd.DataFrame(score, columns=[\"Name\", \"Accuracy\", \"F1 Score\", \"Jaccard Index\", \"Recall\", \"Precision\"])\n",
    "print(score_df)\n",
    "\n",
    "score_df.to_csv(\"./metrics/0.5_score.csv\", index=False)"
   ]
  },
  {
   "cell_type": "markdown",
   "id": "3fbc17e9-d1c7-4855-8f17-7e1dbcfc19fd",
   "metadata": {},
   "source": [
    "##### Calculate Mean Scores"
   ]
  },
  {
   "cell_type": "code",
   "execution_count": 23,
   "id": "9b6fdf41-de0e-43dc-af5e-693ed5fe5ea3",
   "metadata": {
    "tags": []
   },
   "outputs": [
    {
     "name": "stdout",
     "output_type": "stream",
     "text": [
      "11\n",
      "Accuracy: 0.96070\n",
      "F1 score: 0.29764\n",
      "Jaccard: 0.19063\n",
      "Recall: 0.26791\n",
      "Precision: 0.48732\n"
     ]
    }
   ],
   "source": [
    "score = [s[1:] for s in score if not (s[0] ==0 or s[1] ==0 or s[2] ==0 or s[3] ==0 or s[4] ==0)]\n",
    "\n",
    "print(len(score))\n",
    "\n",
    "\n",
    "mean_score = np.mean(score, axis=0)  # Assuming score is a numpy array\n",
    "\n",
    "print(f\"Accuracy: {mean_score[0]:0.5f}\")\n",
    "print(f\"F1 score: {mean_score[1]:0.5f}\")\n",
    "print(f\"Jaccard: {mean_score[2]:0.5f}\")\n",
    "print(f\"Recall: {mean_score[3]:0.5f}\")\n",
    "print(f\"Precision: {mean_score[4]:0.5f}\")"
   ]
  },
  {
   "cell_type": "markdown",
   "id": "29e70f1f-b7d7-42a1-8dd6-5e8e455a3913",
   "metadata": {},
   "source": [
    "#### li thresholding"
   ]
  },
  {
   "cell_type": "code",
   "execution_count": 24,
   "id": "a2f18626-8336-473c-8027-105bb1f2b180",
   "metadata": {
    "tags": []
   },
   "outputs": [
    {
     "name": "stderr",
     "output_type": "stream",
     "text": [
      "100%|██████████| 12/12 [00:01<00:00,  7.96it/s]\n"
     ]
    }
   ],
   "source": [
    "from skimage import filters\n",
    "\n",
    "li_score = []\n",
    "\n",
    "for pred_y_path, true_y_path in tqdm(zip(pred_mask, true_mask), total=len(pred_mask)):\n",
    "    name = pred_y_path.split(\"/\")[-1].split(\".\")[0]\n",
    "    \n",
    "    # Load predicted mask and preprocess\n",
    "    pred_y = cv2.imread(pred_y_path, cv2.IMREAD_GRAYSCALE)\n",
    "    pred_y = pred_y / 255.0\n",
    "\n",
    "    # Apply Li thresholding\n",
    "    threshold_value = filters.threshold_li(pred_y)\n",
    "    pred_y = pred_y > threshold_value\n",
    "    pred_y = pred_y.astype(np.int32)\n",
    "\n",
    "    # Load true mask and preprocess\n",
    "    true_y = cv2.imread(true_y_path, cv2.IMREAD_GRAYSCALE)\n",
    "    true_y = cv2.resize(true_y, (1344, 1100))  # Corrected resizing using OpenCV\n",
    "    true_y = true_y / 255.0\n",
    "    true_y = true_y > 0.5\n",
    "    true_y = true_y.astype(np.int32)\n",
    "    \n",
    "    pred_y1 = (pred_y * 255).astype(np.uint8)\n",
    "    save_path = f'./metrics/li/li_{name}.png'  # Specify your save directory\n",
    "    cv2.imwrite(save_path, pred_y1)\n",
    "\n",
    "    # Calculate metrics manually\n",
    "    accuracy, precision, recall, f1, jaccard = calculate_metrics(true_y, pred_y)\n",
    "\n",
    "    # Append results to score list\n",
    "    li_score.append([name, accuracy, f1, jaccard, recall, precision])"
   ]
  },
  {
   "cell_type": "code",
   "execution_count": 25,
   "id": "2c0d7fe8-6a03-43d7-88ac-cac1f4c9388a",
   "metadata": {
    "tags": []
   },
   "outputs": [
    {
     "name": "stdout",
     "output_type": "stream",
     "text": [
      "        Name  Accuracy  F1 Score  Jaccard Index    Recall  Precision\n",
      "0   15_0.TIF  0.905507  0.343652       0.207476  0.994264   0.207725\n",
      "1   19_0.TIF  0.817649  0.325670       0.194508  0.974842   0.195489\n",
      "2   25_0.TIF  0.909683  0.392060       0.243827  0.699399   0.272371\n",
      "3   30_0.TIF  0.953407  0.488517       0.323203  0.673057   0.383396\n",
      "4    3_0.TIF  0.848367  0.291405       0.170552  0.720099   0.182662\n",
      "5   40_0.TIF  0.868191  0.296202       0.173848  0.771805   0.183268\n",
      "6   52_0.TIF  0.941803  0.416660       0.263152  0.529329   0.343537\n",
      "7   58_0.TIF  0.908279  0.467655       0.305189  0.799777   0.330436\n",
      "8   60_0.TIF  0.950298  0.257975       0.148089  0.229549   0.294438\n",
      "9   63_0.TIF  0.919027  0.444391       0.285670  0.798472   0.307867\n",
      "10   6_0.TIF  0.940085  0.323127       0.192696  0.519242   0.234542\n",
      "11  71_0.TIF  0.756972  0.202668       0.112760  0.947935   0.113463\n"
     ]
    }
   ],
   "source": [
    "import pandas as pd\n",
    "\n",
    "li_score_df = pd.DataFrame(li_score, columns=[\"Name\", \"Accuracy\", \"F1 Score\", \"Jaccard Index\", \"Recall\", \"Precision\"])\n",
    "print(li_score_df)\n",
    "\n",
    "li_score_df.to_csv(\"./metrics/li_score.csv\", index=False)"
   ]
  },
  {
   "cell_type": "code",
   "execution_count": 26,
   "id": "9e97197a-fc35-4bcf-8cf7-25e62d6c4e4d",
   "metadata": {
    "tags": []
   },
   "outputs": [
    {
     "name": "stdout",
     "output_type": "stream",
     "text": [
      "12\n",
      "Accuracy: 0.89327\n",
      "F1 score: 0.35417\n",
      "Jaccard: 0.21841\n",
      "Recall: 0.72148\n",
      "Precision: 0.25410\n"
     ]
    }
   ],
   "source": [
    "li_score = [s[1:] for s in li_score if not (s[0] ==0 or s[1] ==0 or s[2] ==0 or s[3] ==0 or s[4] ==0)]\n",
    "\n",
    "print(len(li_score))\n",
    "\n",
    "\n",
    "mean_score = np.mean(li_score, axis=0)  # Assuming score is a numpy array\n",
    "\n",
    "print(f\"Accuracy: {mean_score[0]:0.5f}\")\n",
    "print(f\"F1 score: {mean_score[1]:0.5f}\")\n",
    "print(f\"Jaccard: {mean_score[2]:0.5f}\")\n",
    "print(f\"Recall: {mean_score[3]:0.5f}\")\n",
    "print(f\"Precision: {mean_score[4]:0.5f}\")"
   ]
  },
  {
   "cell_type": "markdown",
   "id": "47f79f3c-4219-42c8-a584-3afea3d480fe",
   "metadata": {},
   "source": [
    "#### Draws ROC Curve"
   ]
  },
  {
   "cell_type": "code",
   "execution_count": 27,
   "id": "cc8843aa-3caa-4fa5-80cc-210ec33165c1",
   "metadata": {
    "tags": []
   },
   "outputs": [],
   "source": [
    "def compute_roc_curve(true_y, pred_probabilities):\n",
    "    thresholds = np.linspace(0, 1, 100)\n",
    "    tprs = []\n",
    "    fprs = []\n",
    "\n",
    "    for threshold in thresholds:\n",
    "        pred_y = pred_probabilities > threshold\n",
    "        accuracy, precision, recall, f1, jaccard = calculate_metrics(true_y, pred_y)\n",
    "\n",
    "        tp = np.sum((true_y == 1) & (pred_y == 1))\n",
    "        tn = np.sum((true_y == 0) & (pred_y == 0))\n",
    "        fp = np.sum((true_y == 0) & (pred_y == 1))\n",
    "        fn = np.sum((true_y == 1) & (pred_y == 0))\n",
    "\n",
    "        tpr = tp / (tp + fn) if (tp + fn) != 0 else 0\n",
    "        fpr = fp / (fp + tn) if (fp + tn) != 0 else 0\n",
    "\n",
    "        tprs.append(tpr)\n",
    "        fprs.append(fpr)\n",
    "\n",
    "    return fprs, tprs, thresholds\n"
   ]
  },
  {
   "cell_type": "markdown",
   "id": "76e03a52",
   "metadata": {},
   "source": [
    "##### Find optimal threshold from ROC curve using Youden Index and Distance to (0,1) techniques"
   ]
  },
  {
   "cell_type": "code",
   "execution_count": 28,
   "id": "7591ca34-b331-4407-b0a7-03a8d267b268",
   "metadata": {
    "tags": []
   },
   "outputs": [],
   "source": [
    "def find_optimal_threshold(fprs, tprs, thresholds, method='youden'):\n",
    "    if method == 'youden':\n",
    "        youden_index = np.array(tprs) - np.array(fprs)\n",
    "        optimal_idx = np.argmax(youden_index)\n",
    "    elif method == 'distance':\n",
    "        distances = np.sqrt(np.array(fprs)**2 + (1 - np.array(tprs))**2)\n",
    "        optimal_idx = np.argmin(distances)\n",
    "    else:\n",
    "        raise ValueError(\"Method not recognized. Use 'youden' or 'distance'.\")\n",
    "\n",
    "    optimal_threshold = thresholds[optimal_idx]\n",
    "    return optimal_threshold"
   ]
  },
  {
   "cell_type": "markdown",
   "id": "1ca880e9-d57d-412a-a8aa-7049733f4ac7",
   "metadata": {},
   "source": [
    "#### Converting Pred to True Mask using two diffenet optimal threshold \n",
    "\n",
    "Youngs and Distance\n",
    "\n",
    "Common methods to define the optimal threshold.\n",
    "\n",
    "Youden's Index: Maximizes the difference between TPR and FPR (i.e., \n",
    "<div style=\"text-align: center;\">\n",
    "    <img src=\"youden.png\" alt=\"Title\" style=\"width: 500px;\"/>\n",
    "</div>\n",
    "\n",
    "Distance to (0, 1): Minimizes the distance to the top-left corner of the ROC space (i.e.,\n",
    "\n",
    "<div style=\"text-align: center;\">\n",
    "    <img src=\"distance.png\" alt=\"Title\" style=\"width: 500px;\"/>\n",
    "</div>\n",
    "\n",
    "\n",
    "1. Call ROC and find_optimal functions to calculate matrices for each\n",
    "\n",
    "2. Plot ROC curve for each to show where the optimal threshold lies\n",
    "\n",
    "3. Saves the thresholded predictions "
   ]
  },
  {
   "cell_type": "code",
   "execution_count": 29,
   "id": "08683aa5-390c-4b07-812e-5d38a2e6711c",
   "metadata": {
    "tags": []
   },
   "outputs": [
    {
     "name": "stderr",
     "output_type": "stream",
     "text": [
      "  0%|          | 0/12 [00:00<?, ?it/s]"
     ]
    },
    {
     "name": "stdout",
     "output_type": "stream",
     "text": [
      "Optimal Threshold (Youden's Index): 0.15151515151515152\n",
      "Optimal Threshold (Distance's Index): 0.17171717171717174\n"
     ]
    },
    {
     "data": {
      "image/png": "[encoded data removed]",
      "text/plain": [
       "<Figure size 432x288 with 1 Axes>"
      ]
     },
     "metadata": {
      "needs_background": "light"
     },
     "output_type": "display_data"
    },
    {
     "name": "stderr",
     "output_type": "stream",
     "text": [
      "  8%|▊         | 1/12 [00:01<00:18,  1.65s/it]"
     ]
    },
    {
     "name": "stdout",
     "output_type": "stream",
     "text": [
      "Optimal Threshold (Youden's Index): 0.17171717171717174\n",
      "Optimal Threshold (Distance's Index): 0.19191919191919193\n"
     ]
    },
    {
     "data": {
      "image/png": "[encoded data removed]",
      "text/plain": [
       "<Figure size 432x288 with 1 Axes>"
      ]
     },
     "metadata": {
      "needs_background": "light"
     },
     "output_type": "display_data"
    },
    {
     "name": "stderr",
     "output_type": "stream",
     "text": [
      " 17%|█▋        | 2/12 [00:03<00:16,  1.67s/it]"
     ]
    },
    {
     "name": "stdout",
     "output_type": "stream",
     "text": [
      "Optimal Threshold (Youden's Index): 0.030303030303030304\n",
      "Optimal Threshold (Distance's Index): 0.04040404040404041\n"
     ]
    },
    {
     "data": {
      "image/png": "[encoded data removed]",
      "text/plain": [
       "<Figure size 432x288 with 1 Axes>"
      ]
     },
     "metadata": {
      "needs_background": "light"
     },
     "output_type": "display_data"
    },
    {
     "name": "stderr",
     "output_type": "stream",
     "text": [
      " 25%|██▌       | 3/12 [00:05<00:15,  1.68s/it]"
     ]
    },
    {
     "name": "stdout",
     "output_type": "stream",
     "text": [
      "Optimal Threshold (Youden's Index): 0.030303030303030304\n",
      "Optimal Threshold (Distance's Index): 0.030303030303030304\n"
     ]
    },
    {
     "data": {
      "image/png": "[encoded data removed]",
      "text/plain": [
       "<Figure size 432x288 with 1 Axes>"
      ]
     },
     "metadata": {
      "needs_background": "light"
     },
     "output_type": "display_data"
    },
    {
     "name": "stderr",
     "output_type": "stream",
     "text": [
      " 33%|███▎      | 4/12 [00:06<00:13,  1.68s/it]"
     ]
    },
    {
     "name": "stdout",
     "output_type": "stream",
     "text": [
      "Optimal Threshold (Youden's Index): 0.04040404040404041\n",
      "Optimal Threshold (Distance's Index): 0.05050505050505051\n"
     ]
    },
    {
     "data": {
      "image/png": "[encoded data removed]",
      "text/plain": [
       "<Figure size 432x288 with 1 Axes>"
      ]
     },
     "metadata": {
      "needs_background": "light"
     },
     "output_type": "display_data"
    },
    {
     "name": "stderr",
     "output_type": "stream",
     "text": [
      " 42%|████▏     | 5/12 [00:08<00:11,  1.69s/it]"
     ]
    },
    {
     "name": "stdout",
     "output_type": "stream",
     "text": [
      "Optimal Threshold (Youden's Index): 0.030303030303030304\n",
      "Optimal Threshold (Distance's Index): 0.04040404040404041\n"
     ]
    },
    {
     "data": {
      "image/png": "[encoded data removed]",
      "text/plain": [
       "<Figure size 432x288 with 1 Axes>"
      ]
     },
     "metadata": {
      "needs_background": "light"
     },
     "output_type": "display_data"
    },
    {
     "name": "stderr",
     "output_type": "stream",
     "text": [
      " 50%|█████     | 6/12 [00:10<00:10,  1.73s/it]"
     ]
    },
    {
     "name": "stdout",
     "output_type": "stream",
     "text": [
      "Optimal Threshold (Youden's Index): 0.030303030303030304\n",
      "Optimal Threshold (Distance's Index): 0.020202020202020204\n"
     ]
    },
    {
     "data": {
      "image/png": "[encoded data removed]",
      "text/plain": [
       "<Figure size 432x288 with 1 Axes>"
      ]
     },
     "metadata": {
      "needs_background": "light"
     },
     "output_type": "display_data"
    },
    {
     "name": "stderr",
     "output_type": "stream",
     "text": [
      " 58%|█████▊    | 7/12 [00:11<00:08,  1.71s/it]"
     ]
    },
    {
     "name": "stdout",
     "output_type": "stream",
     "text": [
      "Optimal Threshold (Youden's Index): 0.06060606060606061\n",
      "Optimal Threshold (Distance's Index): 0.07070707070707072\n"
     ]
    },
    {
     "data": {
      "image/png": "[encoded data removed]",
      "text/plain": [
       "<Figure size 432x288 with 1 Axes>"
      ]
     },
     "metadata": {
      "needs_background": "light"
     },
     "output_type": "display_data"
    },
    {
     "name": "stderr",
     "output_type": "stream",
     "text": [
      " 67%|██████▋   | 8/12 [00:13<00:06,  1.71s/it]"
     ]
    },
    {
     "name": "stdout",
     "output_type": "stream",
     "text": [
      "Optimal Threshold (Youden's Index): 0.020202020202020204\n",
      "Optimal Threshold (Distance's Index): 0.020202020202020204\n"
     ]
    },
    {
     "data": {
      "image/png": "[encoded data removed]",
      "text/plain": [
       "<Figure size 432x288 with 1 Axes>"
      ]
     },
     "metadata": {
      "needs_background": "light"
     },
     "output_type": "display_data"
    },
    {
     "name": "stderr",
     "output_type": "stream",
     "text": [
      " 75%|███████▌  | 9/12 [00:15<00:05,  1.72s/it]"
     ]
    },
    {
     "name": "stdout",
     "output_type": "stream",
     "text": [
      "Optimal Threshold (Youden's Index): 0.030303030303030304\n",
      "Optimal Threshold (Distance's Index): 0.04040404040404041\n"
     ]
    },
    {
     "data": {
      "image/png": "[encoded data removed]",
      "text/plain": [
       "<Figure size 432x288 with 1 Axes>"
      ]
     },
     "metadata": {
      "needs_background": "light"
     },
     "output_type": "display_data"
    },
    {
     "name": "stderr",
     "output_type": "stream",
     "text": [
      " 83%|████████▎ | 10/12 [00:17<00:03,  1.72s/it]"
     ]
    },
    {
     "name": "stdout",
     "output_type": "stream",
     "text": [
      "Optimal Threshold (Youden's Index): 0.020202020202020204\n",
      "Optimal Threshold (Distance's Index): 0.020202020202020204\n"
     ]
    },
    {
     "data": {
      "image/png": "[encoded data removed]",
      "text/plain": [
       "<Figure size 432x288 with 1 Axes>"
      ]
     },
     "metadata": {
      "needs_background": "light"
     },
     "output_type": "display_data"
    },
    {
     "name": "stderr",
     "output_type": "stream",
     "text": [
      " 92%|█████████▏| 11/12 [00:18<00:01,  1.71s/it]"
     ]
    },
    {
     "name": "stdout",
     "output_type": "stream",
     "text": [
      "Optimal Threshold (Youden's Index): 0.04040404040404041\n",
      "Optimal Threshold (Distance's Index): 0.06060606060606061\n"
     ]
    },
    {
     "data": {
      "image/png": "[encoded data removed]",
      "text/plain": [
       "<Figure size 432x288 with 1 Axes>"
      ]
     },
     "metadata": {
      "needs_background": "light"
     },
     "output_type": "display_data"
    },
    {
     "name": "stderr",
     "output_type": "stream",
     "text": [
      "100%|██████████| 12/12 [00:20<00:00,  1.71s/it]\n"
     ]
    }
   ],
   "source": [
    "youden_score = []\n",
    "distance_score = []\n",
    "  # Fill with the paths to your true mask images\n",
    "\n",
    "for pred_y_path, true_y_path in tqdm(zip(pred_mask, true_mask), total=len(pred_mask)):\n",
    "    name = pred_y_path.split(\"/\")[-1].split(\".\")[0]\n",
    "\n",
    "    # Load predicted mask and preprocess\n",
    "    pred_y = cv2.imread(pred_y_path, cv2.IMREAD_GRAYSCALE)\n",
    "    pred_y = pred_y / 255.0  # Normalize to [0, 1]\n",
    "\n",
    "    # Load true mask and preprocess\n",
    "    true_y = cv2.imread(true_y_path, cv2.IMREAD_GRAYSCALE)\n",
    "    true_y = cv2.resize(true_y, (1344, 1100))  # Corrected resizing using OpenCV\n",
    "    true_y = true_y / 255.0  # Normalize to [0, 1]\n",
    "\n",
    "    # Compute ROC curve\n",
    "    fprs, tprs, thresholds = compute_roc_curve(true_y, pred_y)\n",
    "\n",
    "    # Find optimal threshold\n",
    "    youden_optimal_threshold = find_optimal_threshold(fprs, tprs, thresholds, method='youden')\n",
    "    distance_optimal_threshold = find_optimal_threshold(fprs, tprs, thresholds, method='distance')\n",
    "    \n",
    "    print(f'Optimal Threshold (Youden\\'s Index): {youden_optimal_threshold:.2f}')\n",
    "    print(f'Optimal Threshold (Distance\\'s Index): {distance_optimal_threshold:.2f}')\n",
    "\n",
    "    # Plotting the ROC curve\n",
    "    plt.figure()\n",
    "    plt.plot(fprs, tprs, color='darkorange', lw=2, label='ROC curve')\n",
    "    plt.plot([0, 1], [0, 1], color='navy', lw=2, linestyle='--')\n",
    "    plt.scatter(fprs[np.argmax(np.array(tprs) - np.array(fprs))], tprs[np.argmax(np.array(tprs) - np.array(fprs))], color='red', label='Optimal (Youden)', marker='o')\n",
    "    plt.scatter(fprs[np.argmin(np.sqrt(np.array(fprs)**2 + (1 - np.array(tprs))**2))], tprs[np.argmin(np.sqrt(np.array(fprs)**2 + (1 - np.array(tprs))**2))], color='blue', label='Optimal (Distance)', marker='x')\n",
    "    plt.xlim([0.0, 1.0])\n",
    "    plt.ylim([0.0, 1.05])\n",
    "    plt.xlabel('False Positive Rate')\n",
    "    plt.ylabel('True Positive Rate')\n",
    "    plt.title('Receiver Operating Characteristic (ROC) Curve')\n",
    "    plt.legend(loc=\"lower right\")\n",
    "    plt.show()\n",
    "\n",
    "    # Apply optimal threshold\n",
    "    pred_y_binary_youden = pred_y > youden_optimal_threshold\n",
    "    pred_y_binary_youden = pred_y_binary_youden.astype(np.int32)\n",
    "\n",
    "    # Save the binary mask image\n",
    "    binary_mask_uint8_youden = (pred_y_binary_youden * 255).astype(np.uint8)\n",
    "    save_path_youden = f'./metrics/youden_{name}.png'  # Specify your save directory\n",
    "    cv2.imwrite(save_path_youden, binary_mask_uint8_youden)\n",
    "    \n",
    "    # Apply optimal threshold\n",
    "    pred_y_binary_distance = pred_y > distance_optimal_threshold\n",
    "    pred_y_binary_distance = pred_y_binary_distance.astype(np.int32)\n",
    "\n",
    "    # Save the binary mask image\n",
    "    binary_mask_uint8_distance = (pred_y_binary_distance * 255).astype(np.uint8)\n",
    "    save_path_distance = f'./metrics/distance_{name}.png'  # Specify your save directory\n",
    "    cv2.imwrite(save_path_distance, binary_mask_uint8_distance)\n",
    "\n",
    "    # Calculate metrics\n",
    "    accuracy_youden, precision_youden, recall_youden, f1_youden, jaccard_youden = calculate_metrics(true_y, pred_y_binary_youden)\n",
    "    accuracy_distance, precision_distance, recall_distance, f1_distance, jaccard_distance = calculate_metrics(true_y, pred_y_binary_distance)\n",
    "    \n",
    "\n",
    "    # Append results to score list\n",
    "    youden_score.append([name, accuracy_youden, precision_youden, recall_youden, f1_youden, jaccard_youden])\n",
    "    distance_score.append([name, accuracy_distance, precision_distance, recall_distance, f1_distance, jaccard_distance])    "
   ]
  },
  {
   "cell_type": "code",
   "execution_count": 30,
   "id": "48803dcd-65f9-42cd-b124-7b17b78a9128",
   "metadata": {},
   "outputs": [
    {
     "name": "stdout",
     "output_type": "stream",
     "text": [
      "Accuracy: 0.83534\n",
      "F1 score: 0.17757\n",
      "Jaccard: 0.88358\n",
      "Recall: 0.29235\n",
      "Precision: 0.17333\n"
     ]
    }
   ],
   "source": [
    "import pandas as pd\n",
    "\n",
    "youden_score_df = pd.DataFrame(youden_score, columns=[\"Name\", \"Accuracy\", \"F1 Score\", \"Jaccard Index\", \"Recall\", \"Precision\"])\n",
    "\n",
    "youden_score_df.to_csv(\"./metrics/youden_score.csv\", index=False)\n",
    "\n",
    "youden_score = [s[1:] for s in youden_score if not (s[0] ==0 or s[1] ==0 or s[2] ==0 or s[3] ==0 or s[4] ==0)]\n",
    "\n",
    "mean_score = np.mean(youden_score, axis=0)  # Assuming score is a numpy array\n",
    "\n",
    "print(f\"Accuracy: {mean_score[0]:0.5f}\")\n",
    "print(f\"F1 score: {mean_score[1]:0.5f}\")\n",
    "print(f\"Jaccard: {mean_score[2]:0.5f}\")\n",
    "print(f\"Recall: {mean_score[3]:0.5f}\")\n",
    "print(f\"Precision: {mean_score[4]:0.5f}\")"
   ]
  },
  {
   "cell_type": "code",
   "execution_count": 31,
   "id": "8eb0a395-6c68-4388-b5e5-df0ac8bec872",
   "metadata": {
    "tags": []
   },
   "outputs": [
    {
     "name": "stdout",
     "output_type": "stream",
     "text": [
      "Accuracy: 0.84805\n",
      "F1 score: 0.18424\n",
      "Jaccard: 0.86098\n",
      "Recall: 0.30104\n",
      "Precision: 0.17943\n"
     ]
    }
   ],
   "source": [
    "import pandas as pd\n",
    "\n",
    "distance_score_df = pd.DataFrame(distance_score, columns=[\"Name\", \"Accuracy\", \"F1 Score\", \"Jaccard Index\", \"Recall\", \"Precision\"])\n",
    "\n",
    "distance_score_df.to_csv(\"./metrics/distance_score.csv\", index=False)\n",
    "\n",
    "distance_score = [s[1:] for s in distance_score if not (s[0] ==0 or s[1] ==0 or s[2] ==0 or s[3] ==0 or s[4] ==0)]\n",
    "\n",
    "mean_score = np.mean(distance_score, axis=0)  # Assuming score is a numpy array\n",
    "\n",
    "print(f\"Accuracy: {mean_score[0]:0.5f}\")\n",
    "print(f\"F1 score: {mean_score[1]:0.5f}\")\n",
    "print(f\"Jaccard: {mean_score[2]:0.5f}\")\n",
    "print(f\"Recall: {mean_score[3]:0.5f}\")\n",
    "print(f\"Precision: {mean_score[4]:0.5f}\")"
   ]
  },
  {
   "cell_type": "code",
   "execution_count": null,
   "id": "fc598f5f-8000-4665-b9d8-12055e1e6d50",
   "metadata": {},
   "outputs": [],
   "source": []
  }
 ],
 "metadata": {
  "kernelspec": {
   "display_name": "Tensorflow-2.7.0",
   "language": "python",
   "name": "tensorflow-2.7.0"
  },
  "language_info": {
   "codemirror_mode": {
    "name": "ipython",
    "version": 3
   },
   "file_extension": ".py",
   "mimetype": "text/x-python",
   "name": "python",
   "nbconvert_exporter": "python",
   "pygments_lexer": "ipython3",
   "version": "3.9.12"
  }
 },
 "nbformat": 4,
 "nbformat_minor": 5
}
