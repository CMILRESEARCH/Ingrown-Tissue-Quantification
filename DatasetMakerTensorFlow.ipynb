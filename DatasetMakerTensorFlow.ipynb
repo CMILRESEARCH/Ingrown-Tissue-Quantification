{
 "cells": [
  {
   "cell_type": "markdown",
   "id": "36aafa57-105a-464a-b0ff-97dc17a54594",
   "metadata": {},
   "source": [
    "This code can do the following (as adapted):\n",
    "\n",
    "1. Shows a simple UNET architecture\n",
    "2. Create augmented images\n",
    "3. Divide the images into training, validation, and testing dataset\n",
    "4. Visualize the original image and binary mask side by side"
   ]
  },
  {
   "cell_type": "markdown",
   "id": "53c7ecd4-9a13-4c1a-bb94-6c447da123c9",
   "metadata": {},
   "source": [
    "### Import"
   ]
  },
  {
   "cell_type": "code",
   "execution_count": 1,
   "id": "4ec1d4e1-2b5f-4dfb-80a9-9586bb03247a",
   "metadata": {
    "tags": []
   },
   "outputs": [],
   "source": [
    "import os\n",
    "import numpy as np\n",
    "import cv2            #read and write images\n",
    "from glob import glob #extract file paths\n",
    "from tqdm import tqdm #track the iterations and remaining time\n",
    "from sklearn.model_selection import train_test_split\n",
    "from albumentations import HorizontalFlip, CoarseDropout, RandomBrightness, RandomContrast\n"
   ]
  },
  {
   "cell_type": "markdown",
   "id": "40484942-a1ac-47a3-8e63-b063668bc57b",
   "metadata": {},
   "source": [
    "### Loading dataset: images and masks"
   ]
  },
  {
   "cell_type": "code",
   "execution_count": 3,
   "id": "abb42a4e-2b8e-49df-bba5-dbb5f788f76e",
   "metadata": {
    "tags": []
   },
   "outputs": [],
   "source": [
    "def load_dataset(path):\n",
    "    images = sorted(glob(os.path.join(path, \"images\", \"*\")))\n",
    "    masks = sorted(glob(os.path.join(path, \"masks\", \"*\")))\n",
    "    \n",
    "    return images, masks\n"
   ]
  },
  {
   "cell_type": "markdown",
   "id": "d6807a7a-0fdc-41ae-ba2c-587484e1b162",
   "metadata": {},
   "source": [
    "### Dataset split"
   ]
  },
  {
   "cell_type": "code",
   "execution_count": 4,
   "id": "0c3d09ad-771a-45a6-9b00-7a19fd8db768",
   "metadata": {
    "tags": []
   },
   "outputs": [],
   "source": [
    "def split_dataset(images, masks, split=0.2):\n",
    "    split_size = int(len(images) * split)\n",
    "    \n",
    "    train_x, valid_x = train_test_split(images, test_size = split_size, random_state=42)\n",
    "    train_y, valid_y = train_test_split(masks, test_size = split_size, random_state=42)\n",
    "    \n",
    "    train_x, test_x = train_test_split(train_x, test_size = split_size, random_state=42)\n",
    "    train_y, test_y = train_test_split(train_y, test_size = split_size, random_state=42)\n",
    "    \n",
    "    return (train_x, train_y), (valid_x, valid_y), (test_x, test_y)"
   ]
  },
  {
   "cell_type": "markdown",
   "id": "8b8c3ec9-1f0f-4d1c-b401-c515cd5f8dc4",
   "metadata": {},
   "source": [
    "### Saving the dataset\n",
    "\n",
    "#### Creating a folder"
   ]
  },
  {
   "cell_type": "code",
   "execution_count": 5,
   "id": "8c0ae71f-6256-4dfc-bbd5-cdf4689b8bfa",
   "metadata": {
    "tags": []
   },
   "outputs": [],
   "source": [
    "def create_dir(path):\n",
    "    if not os.path.exists(path):\n",
    "        os.makedirs(path)"
   ]
  },
  {
   "cell_type": "markdown",
   "id": "7dcc8cda-2243-4d04-b959-7927a3aa1e35",
   "metadata": {},
   "source": [
    "#### Saving the dataset"
   ]
  },
  {
   "cell_type": "markdown",
   "id": "0829f836-246f-4393-ade4-d7abdff78525",
   "metadata": {},
   "source": [
    "##### 1. Creating the folders"
   ]
  },
  {
   "cell_type": "code",
   "execution_count": 13,
   "id": "63849729-586d-4afb-833f-d90e0dfd5515",
   "metadata": {
    "tags": []
   },
   "outputs": [],
   "source": [
    "save_dir = os.path.join(\"dataset\")\n",
    "for item in [\"train\", \"valid\", \"test\"]:\n",
    "    create_dir(os.path.join(save_dir, item, \"images\"))\n",
    "    create_dir(os.path.join(save_dir, item, \"masks\"))    "
   ]
  },
  {
   "cell_type": "markdown",
   "id": "a0c9a899-3b77-4ad7-bb49-29cb72d03a20",
   "metadata": {},
   "source": [
    "### Executing the program\n",
    "\n",
    "#### Loading dataset"
   ]
  },
  {
   "cell_type": "code",
   "execution_count": 7,
   "id": "a9804c19-155a-4b1b-86f1-0844036fb0da",
   "metadata": {
    "tags": []
   },
   "outputs": [],
   "source": [
    "def save_dataset(images, masks, save_dir, augment=False):\n",
    "    for x,y in tqdm(zip(images, masks), total=len(images)):\n",
    "        name = x.split(\"/\")[-1].split(\".\")[0]\n",
    "        \n",
    "        x = cv2.imread(x, cv2.IMREAD_COLOR)\n",
    "        y = cv2.imread(y, cv2.IMREAD_COLOR)\n",
    "        \n",
    "        if augment == True:\n",
    "            aug = HorizontalFlip(p=1)\n",
    "            augmented = aug(image=x, mask=y)\n",
    "            x1 = augmented[\"image\"]\n",
    "            y1 = augmented[\"mask\"]\n",
    "            \n",
    "            aug = CoarseDropout(p=1, max_holes=10, max_height=32, max_width=32)\n",
    "            augmented = aug(image=x, mask=y)\n",
    "            x2 = augmented[\"image\"]\n",
    "            y2 = augmented[\"mask\"]\n",
    "            \n",
    "            aug = RandomBrightness(p=1.0)\n",
    "            augmented = aug(image=x, mask=y)\n",
    "            x3 = augmented[\"image\"]\n",
    "            y3 = augmented[\"mask\"]\n",
    "            \n",
    "            aug = RandomContrast(p=1.0)\n",
    "            augmented = aug(image=x, mask=y)\n",
    "            x4 = augmented[\"image\"]\n",
    "            y4 = augmented[\"mask\"]\n",
    "            \n",
    "            aug_x = [x, x1, x2, x3, x4]\n",
    "            aug_y = [y, y1, y2, y3, y4]\n",
    "        \n",
    "        else:\n",
    "            aug_x = [x]\n",
    "            aug_y = [y]\n",
    "        \n",
    "        idx = 0\n",
    "        for ax, ay in zip(aug_x, aug_y):\n",
    "            aug_name = f\"{name}_{idx}.TIF\"\n",
    "            \n",
    "            save_image_path = os.path.join(save_dir, \"images\", aug_name)\n",
    "            save_mask_path = os.path.join(save_dir, \"masks\", aug_name)\n",
    "        \n",
    "            cv2.imwrite(save_image_path, ax)\n",
    "            cv2.imwrite(save_mask_path, ay)\n",
    "            \n",
    "            idx += 1"
   ]
  },
  {
   "cell_type": "code",
   "execution_count": null,
   "id": "87bb9366-dd38-40de-a5f5-7e1ba58cc818",
   "metadata": {
    "tags": []
   },
   "outputs": [
    {
     "name": "stdout",
     "output_type": "stream",
     "text": [
      "Images: 64 - Masks: 64\n"
     ]
    }
   ],
   "source": [
    "dataset_path = os.getcwd()\n",
    "images, masks = load_dataset(dataset_path)\n",
    "print(f\"Images: {len(images)} - Masks: {len(masks)}\")"
   ]
  },
  {
   "cell_type": "markdown",
   "id": "c195bd4d-b05e-4ea5-9678-b911f5bc040e",
   "metadata": {},
   "source": [
    "#### Dataset split"
   ]
  },
  {
   "cell_type": "code",
   "execution_count": 9,
   "id": "4c69db3e-90dd-415d-989f-5ad10f7cb6a3",
   "metadata": {
    "tags": []
   },
   "outputs": [],
   "source": [
    "(train_x, train_y), (valid_x, valid_y), (test_x, test_y) = split_dataset(images, masks, split=0.2)"
   ]
  },
  {
   "cell_type": "markdown",
   "id": "01712bde-1974-496c-a64b-1ec9dd30e3d9",
   "metadata": {},
   "source": [
    "##### 2. Saving the training dataset"
   ]
  },
  {
   "cell_type": "code",
   "execution_count": 10,
   "id": "b237b2cd-8b6b-4726-a2e2-e70a16c12eba",
   "metadata": {
    "tags": []
   },
   "outputs": [
    {
     "name": "stderr",
     "output_type": "stream",
     "text": [
      "100%|██████████| 40/40 [07:51<00:00, 11.78s/it]\n"
     ]
    }
   ],
   "source": [
    "save_dataset(train_x, train_y, os.path.join(save_dir, \"train\"), augment=True)"
   ]
  },
  {
   "cell_type": "markdown",
   "id": "3716a2bb-c8ba-4fea-921b-06a295d270ca",
   "metadata": {},
   "source": [
    "##### 3. Saving the validation dataset"
   ]
  },
  {
   "cell_type": "code",
   "execution_count": 11,
   "id": "ba1e38f1-2c97-41ab-bb13-371a58213cfe",
   "metadata": {
    "tags": []
   },
   "outputs": [
    {
     "name": "stderr",
     "output_type": "stream",
     "text": [
      "100%|██████████| 12/12 [00:37<00:00,  3.09s/it]\n"
     ]
    }
   ],
   "source": [
    "save_dataset(valid_x, valid_y, os.path.join(save_dir, \"valid\"), augment=False)"
   ]
  },
  {
   "cell_type": "markdown",
   "id": "d025323e-ac98-401d-825e-5ad62e2a2189",
   "metadata": {},
   "source": [
    "##### 4. Saving the testing dataset"
   ]
  },
  {
   "cell_type": "code",
   "execution_count": 12,
   "id": "8a032c69-3d7e-4193-ba5c-46377ae43932",
   "metadata": {
    "tags": []
   },
   "outputs": [
    {
     "name": "stderr",
     "output_type": "stream",
     "text": [
      "100%|██████████| 12/12 [00:11<00:00,  1.03it/s]\n"
     ]
    }
   ],
   "source": [
    "save_dataset(test_x, test_y, os.path.join(save_dir, \"test\"), augment=False)"
   ]
  },
  {
   "cell_type": "code",
   "execution_count": 42,
   "id": "16f4654d-2ed3-4d89-98ce-a8f0e311935b",
   "metadata": {
    "tags": []
   },
   "outputs": [
    {
     "name": "stdout",
     "output_type": "stream",
     "text": [
      "Train: 116 - 116\n",
      "Valid: 28 - 28\n"
     ]
    }
   ],
   "source": [
    "print(f\"Train: {len(train_x)} - {len(train_y)}\")\n",
    "print(f\"Valid: {len(valid_x)} - {len(valid_y)}\")\n",
    "print(f\"Test: {len(test_x)} - {len(test_y)}\")"
   ]
  }
 ],
 "metadata": {
  "kernelspec": {
   "display_name": "Tensorflow-2.4.1",
   "language": "python",
   "name": "tensorflow-2.4.1"
  },
  "language_info": {
   "codemirror_mode": {
    "name": "ipython",
    "version": 3
   },
   "file_extension": ".py",
   "mimetype": "text/x-python",
   "name": "python",
   "nbconvert_exporter": "python",
   "pygments_lexer": "ipython3",
   "version": "3.8.6"
  }
 },
 "nbformat": 4,
 "nbformat_minor": 5
}
